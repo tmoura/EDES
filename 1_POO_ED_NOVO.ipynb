{
  "nbformat": 4,
  "nbformat_minor": 0,
  "metadata": {
    "colab": {
      "provenance": [],
      "authorship_tag": "ABX9TyMX6A6bwLtY0kuq51bnoztG",
      "include_colab_link": true
    },
    "kernelspec": {
      "name": "python3",
      "display_name": "Python 3"
    },
    "language_info": {
      "name": "python"
    }
  },
  "cells": [
    {
      "cell_type": "markdown",
      "metadata": {
        "id": "view-in-github",
        "colab_type": "text"
      },
      "source": [
        "<a href=\"https://colab.research.google.com/github/tmoura/EDES/blob/main/1_POO_ED_NOVO.ipynb\" target=\"_parent\"><img src=\"https://colab.research.google.com/assets/colab-badge.svg\" alt=\"Open In Colab\"/></a>"
      ]
    },
    {
      "cell_type": "code",
      "execution_count": null,
      "metadata": {
        "id": "Op56NKdSpw-0"
      },
      "outputs": [],
      "source": [
        "class Ponto:\n",
        "  def __init__(self, x, y):\n",
        "    self.x = x\n",
        "    self.y = y\n",
        "\n",
        "\n",
        "# Programa principal\n",
        "if __name__ == '__main__':\n",
        "   ponto1 = Ponto(3,4)\n",
        "   ponto2 = Ponto(-1,3)\n",
        "\n",
        "   print(f\"As coordenadas do Ponto 1 são: {ponto1.x, ponto1.y}\")\n",
        "   print(f\"As coordenadas do Ponto 1 são: {ponto2.x, ponto2.y}\")"
      ]
    },
    {
      "cell_type": "code",
      "source": [
        "class Casa:\n",
        "  def __init__(self, n, e, c):\n",
        "    self.numero = n\n",
        "    self.endereco = e\n",
        "    self.cor = c\n",
        "\n",
        "# Programa principal\n",
        "if __name__ == '__main__':\n",
        "   minha_casa = Casa(209,\"Rua 5 de Maio\",\"Verde\")\n",
        "\n",
        "   print(f\"Minha casa tem as seguintes características: Fica na rua {minha_casa.endereco}, Número {minha_casa.numero} e é da cor {minha_casa.cor}\")"
      ],
      "metadata": {
        "id": "3OeJ2fUZqiCy"
      },
      "execution_count": null,
      "outputs": []
    },
    {
      "cell_type": "code",
      "source": [
        "class Ponto:\n",
        "  def __init__(self, x, y):\n",
        "    self.x = x\n",
        "    self.y = y\n",
        "\n",
        "  def quadrante(self):\n",
        "    if (self.x > 0 and self.y > 0):\n",
        "      return \"1 quadrante\"\n",
        "    elif (self.x < 0 and self.y > 0):\n",
        "      return \"2 quadrante\"\n",
        "    elif (self.x < 0 and self.y < 0):\n",
        "      return \"3 quadrante\"\n",
        "    elif (self.x > 0 and self.y < 0):\n",
        "      return \"4 quadrante\"\n",
        "    else:\n",
        "      return \"Nenhum dos quadrantes\"\n",
        "\n",
        "# Programa principal\n",
        "if __name__ == '__main__':\n",
        "   ponto1 = Ponto(3,-4)\n",
        "   ponto2 = Ponto(-1,-3)\n",
        "\n",
        "   print(f\"As coordenadas do Ponto 1 são: {ponto1.x, ponto1.y}, pertence ao {ponto1.quadrante()}\")\n",
        "   print(f\"As coordenadas do Ponto 1 são: {ponto2.x, ponto2.y}, pertence ao {ponto2.quadrante()}\")"
      ],
      "metadata": {
        "id": "WmCtg7hRr8El"
      },
      "execution_count": null,
      "outputs": []
    }
  ]
}