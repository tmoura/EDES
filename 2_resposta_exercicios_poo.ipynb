{
  "nbformat": 4,
  "nbformat_minor": 0,
  "metadata": {
    "colab": {
      "provenance": [],
      "authorship_tag": "ABX9TyNLwNNFfDDPIZCAswJmanyi",
      "include_colab_link": true
    },
    "kernelspec": {
      "name": "python3",
      "display_name": "Python 3"
    },
    "language_info": {
      "name": "python"
    }
  },
  "cells": [
    {
      "cell_type": "markdown",
      "metadata": {
        "id": "view-in-github",
        "colab_type": "text"
      },
      "source": [
        "<a href=\"https://colab.research.google.com/github/tmoura/EDES/blob/main/2_resposta_exercicios_poo.ipynb\" target=\"_parent\"><img src=\"https://colab.research.google.com/assets/colab-badge.svg\" alt=\"Open In Colab\"/></a>"
      ]
    },
    {
      "cell_type": "markdown",
      "source": [
        "# Questão 1\n",
        "\n",
        "Implemente uma classe chamada Data, que poderá ser usada para representar uma data. A\n",
        "classe deverá ter:\n",
        "\n",
        "a) Os atributos privados: dia, mês e ano;\n",
        "\n",
        "b) Construtor;\n",
        "\n",
        "c) Métodos acessadores e modificadores;\n",
        "\n",
        "d) Método __str__(self), que deverá retornar a data no formato dd/mm/aaaa.\n",
        "\n",
        "Escreva um programa para criar objetos dessa classe e testar os métodos.\n"
      ],
      "metadata": {
        "id": "3le-rzRTDI1O"
      }
    },
    {
      "cell_type": "code",
      "execution_count": null,
      "metadata": {
        "id": "-ZcpctZcC_Qv"
      },
      "outputs": [],
      "source": [
        "# pass"
      ]
    },
    {
      "cell_type": "markdown",
      "source": [
        "# Questão 2\n",
        "\n",
        "Implemente uma classe chamada Aluno que deve ter:\n",
        "\n",
        "a) Atributo matricula (número inteiro), nome (string), notas (list);\n",
        "\n",
        "b) Construtor para inicializar todos os atributos;\n",
        "\n",
        "c) Métodos acessadores para nome e matrícula. Este último deve retornar a matrícula como uma String formatada (2025.1.45);\n",
        "\n",
        "d) Método media(self), que retorna a media das notas;\n",
        "\n",
        "e) Método alterador apenas para o nome;\n",
        "\n",
        "f) Método adiciona_nota(self, nota), para adicionar uma nota à lista de notas do aluno.\n",
        "\n",
        "Escreva um programa para criar objetos dessa classe e testar os métodos."
      ],
      "metadata": {
        "id": "rkGYTYK3DhST"
      }
    },
    {
      "cell_type": "code",
      "source": [
        "# pass"
      ],
      "metadata": {
        "id": "gThXO4yzDtsQ"
      },
      "execution_count": null,
      "outputs": []
    },
    {
      "cell_type": "markdown",
      "source": [
        "# Questão 3\n",
        "\n",
        "Escreva uma classe que represente um país. Um país tem como atributos privados o seu nome, o nome da capital, sua dimensão em Km2 e uma lista de países com os quais ele faz fronteira.\n",
        "\n",
        "Represente a classe e forneça o construtor e métodos:\n",
        "\n",
        "a) Construtor que inicialize o nome, capital e a dimensão do país;\n",
        "\n",
        "b) Métodos de acesso para os atributos indicados no item (a);\n",
        "\n",
        "c) Método que retorne a lista de países que fazem fronteira (retorna o list);\n",
        "\n",
        "d) Método que adiciona o nome de país a lista de fronteiras (verificar se o nome já existe na lista).\n",
        "\n",
        "e) Método __str__(self) que vai retornar a string formatada com o nome do país, sua capital e Km2\n",
        "\n",
        "Escreva um programa para criar objetos dessa classe e testar os métodos."
      ],
      "metadata": {
        "id": "90bKGXqaDyVG"
      }
    },
    {
      "cell_type": "code",
      "source": [
        "# pass"
      ],
      "metadata": {
        "id": "3meP--3xECha"
      },
      "execution_count": null,
      "outputs": []
    },
    {
      "cell_type": "markdown",
      "source": [
        "# Questão 4\n",
        "\n",
        "Implemente uma classe Conta_Corrente, cujos atributos dos seus objetos são numero, saldo e nome_titular. Ainda na classe, implemente os métodos depositar e sacar, parametrizando neles o valor a ser depositado ou sacado,respectivamente. O método depositar não possui retorno, devendo apenas incrementar o valor do saldo. O método sacar deverá retornar um valor booleano (true – se sacou com sucesso, pois há saldo suficiente, decrementando-o; ou false caso contrário). A classe também deverá possuir um construtor, para inicializar os valores dos atributos dos objetos instanciados. Em seguida:\n",
        "\n",
        "a) Escreva um programa para criar cinco instâncias (objetos) de Conta_Corrente,\n",
        "armazenando-os em uma list. Os valores para inicialização dos objetos deverão ser lidos do teclado;\n",
        "\n",
        "b) Criados os objetos, disponibilize um menu de operações para o usuário. Em um loop, o programa ficará solicitando ao usuário, qual o número da operação abaixo ele deseja realizar:\n",
        "\n",
        "1) Depositar - Ao digitar a opção 1, o programa deverá ler o número da conta e o valor a ser depositado e realizar a operação.\n",
        "\n",
        "2) Sacar - Ao digitar a opção 2, o programa deverá ler o número da conta e o valor a ser sacado e realizar a operação, testando se o saque ocorreu ou não.\n",
        "\n",
        "3) Saldo - Ao digitar a opção 3, o programa devera ler o número da conta e exibir o seu saldo.\n",
        "\n",
        "4) Sair\n",
        "\n",
        "Ao digitar a opção 4, o programa deverá ser encerrado. O loop só será encerrado\n",
        "quando esta operação for informada."
      ],
      "metadata": {
        "id": "4aSbD1S_EE5x"
      }
    },
    {
      "cell_type": "code",
      "source": [
        "# pass"
      ],
      "metadata": {
        "id": "TXEeS9wbEmmy"
      },
      "execution_count": null,
      "outputs": []
    },
    {
      "cell_type": "markdown",
      "source": [
        "# Questão 5\n",
        "\n",
        "Continuando a questão anterior, criar a classe Banco que possua uma lista de contas. A classe Banco deve possuir os seguintes métodos:\n",
        "\n",
        "• sacar() - recebe o número da conta e o valor a ser sacado\n",
        "\n",
        "• depositar() - recebe o número da conta e o valor a ser depositado\n",
        "\n",
        "• transferir() - recebe o número da conta de origem e de destino, como também o valor a ser transferido\n",
        "\n",
        "• somar_saldos() - retorna a soma de todos os saldos das contas\n",
        "\n",
        "• adicionar_conta(conta) – adiciona uma conta corrente ao banco\n",
        "\n",
        "• remove_conta(numero) – recebe um número de conta, procura a conta na lista e remove do banco\n",
        "\n",
        "Os métodos da classe Banco deverão acessar os métodos da classe Conta_Corrente para cada uma das operações acima."
      ],
      "metadata": {
        "id": "5kBfwX7hEnV6"
      }
    },
    {
      "cell_type": "code",
      "source": [
        "# pass"
      ],
      "metadata": {
        "id": "Vt7bvEEiE2vB"
      },
      "execution_count": null,
      "outputs": []
    }
  ]
}