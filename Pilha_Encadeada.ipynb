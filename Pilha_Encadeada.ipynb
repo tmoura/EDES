{
  "nbformat": 4,
  "nbformat_minor": 0,
  "metadata": {
    "colab": {
      "provenance": [],
      "authorship_tag": "ABX9TyNEoMYC4AoSOO3SkAl7J95l",
      "include_colab_link": true
    },
    "kernelspec": {
      "name": "python3",
      "display_name": "Python 3"
    },
    "language_info": {
      "name": "python"
    }
  },
  "cells": [
    {
      "cell_type": "markdown",
      "metadata": {
        "id": "view-in-github",
        "colab_type": "text"
      },
      "source": [
        "<a href=\"https://colab.research.google.com/github/tmoura/EDES/blob/main/Pilha_Encadeada.ipynb\" target=\"_parent\"><img src=\"https://colab.research.google.com/assets/colab-badge.svg\" alt=\"Open In Colab\"/></a>"
      ]
    },
    {
      "cell_type": "markdown",
      "source": [
        "# Pilha Encadeada\n",
        "\n",
        "Nos próximos exemplos iremos usar uma classe chamada **Nó** para criar os elementos da nossa Pilha\n",
        "\n",
        "A classe **Pilha** será responsável por gerenciar os elementos da classe **Nó** que estão ligados"
      ],
      "metadata": {
        "id": "Cdmnz5siNbkT"
      }
    },
    {
      "cell_type": "code",
      "execution_count": 7,
      "metadata": {
        "id": "We-kFjbgNXFQ"
      },
      "outputs": [],
      "source": [
        "class No:\n",
        "  def __init__(self, dado = None):\n",
        "    self.__dado = dado\n",
        "    self.__prox = None\n",
        "\n",
        "  # get\n",
        "  @property\n",
        "  def dado(self):\n",
        "    return self.__dado\n",
        "\n",
        "  # set\n",
        "  @dado.setter\n",
        "  def dado(self, novo):\n",
        "    self.__dado = novo\n",
        "\n",
        "  # get\n",
        "  @property\n",
        "  def prox(self):\n",
        "    return self.__prox\n",
        "\n",
        "  # set\n",
        "  @prox.setter\n",
        "  def prox(self, novo):\n",
        "    self.__prox = novo"
      ]
    },
    {
      "cell_type": "code",
      "source": [
        "class Pilha_Encadeada:\n",
        "  def __init__(self):\n",
        "    self.__topo = None\n",
        "\n",
        "  @property\n",
        "  def topo(self):\n",
        "    return self.__topo\n",
        "\n",
        "  def esta_vazia(self):\n",
        "    return self.__topo == None\n",
        "\n",
        "  def empilhar(self, no):\n",
        "    no.prox = self.__topo\n",
        "    self.__topo = no\n",
        "\n",
        "  def desempilhar(self):\n",
        "    if self.esta_vazia() == False:\n",
        "      self.__topo = self.__topo.prox\n",
        "\n",
        "  def __str__(self):\n",
        "    saida = 'Pilha: ['\n",
        "    p = self.__topo\n",
        "\n",
        "    while p != None:\n",
        "      saida += f'{p.dado}'\n",
        "      p = p.prox\n",
        "\n",
        "      if p != None:\n",
        "        saida += ', '\n",
        "\n",
        "    saida += ']'\n",
        "    return saida"
      ],
      "metadata": {
        "id": "UIok7fCeNzM8"
      },
      "execution_count": 8,
      "outputs": []
    },
    {
      "cell_type": "code",
      "source": [
        "if __name__ == '__main__':\n",
        "\n",
        "  p = Pilha_Encadeada()\n",
        "\n",
        "  p.empilhar(No(\"A\"))\n",
        "  p.empilhar(No(\"B\"))\n",
        "  p.empilhar(No(\"C\"))\n",
        "  p.empilhar(No(\"D\"))\n",
        "\n",
        "  print(p)\n",
        "\n",
        "  p.desempilhar()\n",
        "  print(p)\n",
        "\n",
        "  p.desempilhar()\n",
        "  print(p)"
      ],
      "metadata": {
        "colab": {
          "base_uri": "https://localhost:8080/"
        },
        "id": "HqhjwyavOtQ9",
        "outputId": "a7f23807-f498-42b4-8ace-f51d10c0ab0e"
      },
      "execution_count": 9,
      "outputs": [
        {
          "output_type": "stream",
          "name": "stdout",
          "text": [
            "Pilha: [D, C, B, A]\n",
            "Pilha: [C, B, A]\n",
            "Pilha: [B, A]\n"
          ]
        }
      ]
    }
  ]
}