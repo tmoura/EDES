{
  "nbformat": 4,
  "nbformat_minor": 0,
  "metadata": {
    "colab": {
      "provenance": [],
      "include_colab_link": true
    },
    "kernelspec": {
      "name": "python3",
      "display_name": "Python 3"
    },
    "language_info": {
      "name": "python"
    }
  },
  "cells": [
    {
      "cell_type": "markdown",
      "metadata": {
        "id": "view-in-github",
        "colab_type": "text"
      },
      "source": [
        "<a href=\"https://colab.research.google.com/github/tmoura/EDES/blob/main/Arvores_Binarias.ipynb\" target=\"_parent\"><img src=\"https://colab.research.google.com/assets/colab-badge.svg\" alt=\"Open In Colab\"/></a>"
      ]
    },
    {
      "cell_type": "markdown",
      "source": [
        "# Árvores Binárias\n",
        "\n",
        "Nos próximos exemplos iremos usar uma classe chamada Nó para criar os elementos da nossa Árvore\n",
        "\n",
        "A classe Árvore_Binária será responsável por gerenciar os elementos da classe Nó e criar a árvore binária"
      ],
      "metadata": {
        "id": "_UU39LDO0msM"
      }
    },
    {
      "cell_type": "code",
      "execution_count": null,
      "metadata": {
        "id": "Jp02DMvf0iDo"
      },
      "outputs": [],
      "source": [
        "class No:\n",
        "  def __init__(self, dado = None):\n",
        "    self.__dado = dado\n",
        "    self.__dir = None\n",
        "    self.__esq = None\n",
        "\n",
        "  # get\n",
        "  @property\n",
        "  def dado(self):\n",
        "    return self.__dado\n",
        "\n",
        "  # set\n",
        "  @dado.setter\n",
        "  def dado(self, novo):\n",
        "    self.__dado = novo\n",
        "\n",
        "  # get\n",
        "  @property\n",
        "  def dir(self):\n",
        "    return self.__dir\n",
        "\n",
        "  # set\n",
        "  @dir.setter\n",
        "  def dir(self, novo):\n",
        "    self.__dir = novo\n",
        "\n",
        "  # get\n",
        "  @property\n",
        "  def esq(self):\n",
        "    return self.__esq\n",
        "\n",
        "  # set\n",
        "  @esq.setter\n",
        "  def esq(self, novo):\n",
        "    self.__esq = novo"
      ]
    },
    {
      "cell_type": "code",
      "source": [
        "class Arvore_Binaria:\n",
        "\n",
        "  def __init__(self):\n",
        "    self.__root = None\n",
        "\n",
        "  def em_ordem(self,):\n",
        "    pass\n",
        "\n",
        "  def pre_ordem(self):\n",
        "    pass\n",
        "\n",
        "  def pos_ordem(self):\n",
        "    pass"
      ],
      "metadata": {
        "id": "yvLb-S7M0wGS"
      },
      "execution_count": null,
      "outputs": []
    },
    {
      "cell_type": "code",
      "source": [
        "if __name__ == '__main__':\n",
        "\n",
        "  arvore = Arvore_Binaria()"
      ],
      "metadata": {
        "id": "i029U9FNw82U"
      },
      "execution_count": null,
      "outputs": []
    }
  ]
}