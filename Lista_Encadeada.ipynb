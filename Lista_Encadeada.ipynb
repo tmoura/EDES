{
  "nbformat": 4,
  "nbformat_minor": 0,
  "metadata": {
    "colab": {
      "provenance": [],
      "authorship_tag": "ABX9TyODh8q8Xv96y3hAtEeVKD/3",
      "include_colab_link": true
    },
    "kernelspec": {
      "name": "python3",
      "display_name": "Python 3"
    },
    "language_info": {
      "name": "python"
    }
  },
  "cells": [
    {
      "cell_type": "markdown",
      "metadata": {
        "id": "view-in-github",
        "colab_type": "text"
      },
      "source": [
        "<a href=\"https://colab.research.google.com/github/tmoura/EDES/blob/main/Lista_Encadeada.ipynb\" target=\"_parent\"><img src=\"https://colab.research.google.com/assets/colab-badge.svg\" alt=\"Open In Colab\"/></a>"
      ]
    },
    {
      "cell_type": "markdown",
      "source": [
        "# Lista Encadeada\n",
        "\n",
        "Nos próximos exemplos iremos usar uma classe chamada Nó para criar os elementos da nossa Lista\n",
        "\n",
        "A classe Lista será responsável por gerenciar os elementos da classe Nó que estão ligados"
      ],
      "metadata": {
        "id": "_UU39LDO0msM"
      }
    },
    {
      "cell_type": "code",
      "execution_count": 1,
      "metadata": {
        "id": "Jp02DMvf0iDo"
      },
      "outputs": [],
      "source": [
        "class No:\n",
        "  def __init__(self, dado = None):\n",
        "    self.__dado = dado\n",
        "    self.__prox = None\n",
        "\n",
        "  # get\n",
        "  @property\n",
        "  def dado(self):\n",
        "    return self.__dado\n",
        "\n",
        "  # set\n",
        "  @dado.setter\n",
        "  def dado(self, novo):\n",
        "    self.__dado = novo\n",
        "\n",
        "  # get\n",
        "  @property\n",
        "  def prox(self):\n",
        "    return self.__prox\n",
        "\n",
        "  # set\n",
        "  @prox.setter\n",
        "  def prox(self, novo):\n",
        "    self.__prox = novo"
      ]
    },
    {
      "cell_type": "code",
      "source": [
        "class Lista_Encadeada:\n",
        "\n",
        "  def __init__(self):\n",
        "    self.__inicio = []\n",
        "\n",
        "  def inserir_inicio(self, no):\n",
        "    pass\n",
        "\n",
        "  def inserir_meio(self, posicao, no):\n",
        "    pass\n",
        "\n",
        "  def inserir_fim(self, no):\n",
        "    pass\n",
        "\n",
        "  def remover_inicio(self, no):\n",
        "    pass\n",
        "\n",
        "  def remover_meio(self, posicao, no):\n",
        "    pass\n",
        "\n",
        "  def remover_fim(self, no):\n",
        "    pass\n",
        "\n",
        "  def consultar_inicio(self, no):\n",
        "    pass\n",
        "\n",
        "  def consultar_meio(self, posicao, no):\n",
        "    pass\n",
        "\n",
        "  def consultar_fim(self, no):\n",
        "    pass\n",
        "\n",
        "  def tamanho(self):\n",
        "    p = self.__inicio\n",
        "\n",
        "    tamanho = 0\n",
        "    while p != None:\n",
        "      tamanho += 1\n",
        "      p = p.prox\n",
        "    return tamanho\n",
        "\n",
        "  def __str__(self):\n",
        "    saida = 'Lista: ['\n",
        "    p = self.__inicio\n",
        "\n",
        "    while p != None:\n",
        "      saida += f'{p.dado}'\n",
        "      p = p.prox\n",
        "\n",
        "      if p != None:\n",
        "        saida += ', '\n",
        "\n",
        "    saida += ']'\n",
        "    return saida"
      ],
      "metadata": {
        "id": "yvLb-S7M0wGS"
      },
      "execution_count": 2,
      "outputs": []
    },
    {
      "cell_type": "code",
      "source": [
        "class Lista_Encadeada_v2:\n",
        "\n",
        "  def __init__(self):\n",
        "    self.__inicio = []\n",
        "\n",
        "  # Se pos for valor zero ou negativo, colocar o no na primeira posição\n",
        "  # Se pos tiver um valor maior do que o tamanho da lista, colocar na última posição\n",
        "  def inserir(self, pos, no):\n",
        "    pass\n",
        "\n",
        "  # Se pos for valor zero ou negativo, remover o no na primeira posição\n",
        "  # Se pos tiver um valor maior do que o tamanho da lista, remover da última posição\n",
        "  def remover(self, pos, no):\n",
        "    pass\n",
        "\n",
        "  # Se pos for valor zero ou negativo, consultar o no na primeira posição\n",
        "  # Se pos tiver um valor maior do que o tamanho da lista, consultar da última posição\n",
        "  def consultar(self, pos):\n",
        "    pass\n",
        "\n",
        "  def tamanho(self):\n",
        "    p = self.__inicio\n",
        "\n",
        "    tamanho = 0\n",
        "    while p != None:\n",
        "      tamanho += 1\n",
        "      p = p.prox\n",
        "    return tamanho\n",
        "\n",
        "  def __str__(self):\n",
        "    saida = 'Lista: ['\n",
        "    p = self.__inicio\n",
        "\n",
        "    while p != None:\n",
        "      saida += f'{p.dado}'\n",
        "      p = p.prox\n",
        "\n",
        "      if p != None:\n",
        "        saida += ', '\n",
        "\n",
        "    saida += ']'\n",
        "    return saida"
      ],
      "metadata": {
        "id": "-pYnWLm1_Q1P"
      },
      "execution_count": null,
      "outputs": []
    },
    {
      "cell_type": "code",
      "source": [
        "if __name__ == '__main__':\n",
        "\n",
        "  p = Lista_Encadeada()"
      ],
      "metadata": {
        "id": "UkR6_xsD4UML"
      },
      "execution_count": 3,
      "outputs": []
    }
  ]
}