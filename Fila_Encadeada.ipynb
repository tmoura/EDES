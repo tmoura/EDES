{
  "nbformat": 4,
  "nbformat_minor": 0,
  "metadata": {
    "colab": {
      "provenance": [],
      "authorship_tag": "ABX9TyPL375GV4nzgSYy4PShAjp7",
      "include_colab_link": true
    },
    "kernelspec": {
      "name": "python3",
      "display_name": "Python 3"
    },
    "language_info": {
      "name": "python"
    }
  },
  "cells": [
    {
      "cell_type": "markdown",
      "metadata": {
        "id": "view-in-github",
        "colab_type": "text"
      },
      "source": [
        "<a href=\"https://colab.research.google.com/github/tmoura/EDES/blob/main/Fila_Encadeada.ipynb\" target=\"_parent\"><img src=\"https://colab.research.google.com/assets/colab-badge.svg\" alt=\"Open In Colab\"/></a>"
      ]
    },
    {
      "cell_type": "markdown",
      "source": [
        "# Fila Encadeada\n",
        "\n",
        "Nos próximos exemplos iremos usar uma classe chamada Nó para criar os elementos da nossa Fila\n",
        "\n",
        "A classe Fila será responsável por gerenciar os elementos da classe Nó que estão ligados"
      ],
      "metadata": {
        "id": "biWlHytH0F1V"
      }
    },
    {
      "cell_type": "code",
      "execution_count": 1,
      "metadata": {
        "id": "MAP6tS4R0ESW"
      },
      "outputs": [],
      "source": [
        "class No:\n",
        "  def __init__(self, dado = None):\n",
        "    self.__dado = dado\n",
        "    self.__prox = None\n",
        "\n",
        "  # get\n",
        "  @property\n",
        "  def dado(self):\n",
        "    return self.__dado\n",
        "\n",
        "  # set\n",
        "  @dado.setter\n",
        "  def dado(self, novo):\n",
        "    self.__dado = novo\n",
        "\n",
        "  # get\n",
        "  @property\n",
        "  def prox(self):\n",
        "    return self.__prox\n",
        "\n",
        "  # set\n",
        "  @prox.setter\n",
        "  def prox(self, novo):\n",
        "    self.__prox = novo"
      ]
    },
    {
      "cell_type": "code",
      "source": [
        "class Fila_Encadeada:\n",
        "  def __init__(self):\n",
        "    self.__inicio = None\n",
        "    self.__fim = None\n",
        "\n",
        "  @property\n",
        "  def inicio(self):\n",
        "    return self.__inicio\n",
        "\n",
        "  @property\n",
        "  def fim(self):\n",
        "    return self.__fim\n",
        "\n",
        "  def esta_vazia(self):\n",
        "    return self.__inicio == None\n",
        "\n",
        "  def adicionar(self, no):\n",
        "    if self.__inicio == None:\n",
        "      self.__inicio = no\n",
        "      self.__fim = no\n",
        "    else:\n",
        "      self.__fim.prox = no\n",
        "      self.__fim = no\n",
        "\n",
        "  def remover(self):\n",
        "    if self.esta_vazia() == False:\n",
        "\n",
        "      if self.__inicio == self.__fim:\n",
        "        self.__inicio = self.__inicio.prox\n",
        "        self.__fim = self.__fim.prox\n",
        "      else:\n",
        "        self.__inicio = self.__inicio.prox\n",
        "\n",
        "  def size(self):\n",
        "    p = self.__inicio\n",
        "\n",
        "    tamanho = 0\n",
        "    while p != None:\n",
        "      tamanho += 1\n",
        "      p = p.prox\n",
        "    return tamanho\n",
        "\n",
        "  def __str__(self):\n",
        "    saida = 'Fila: ['\n",
        "    p = self.__inicio\n",
        "\n",
        "    while p != None:\n",
        "      saida += f'{p.dado}'\n",
        "      p = p.prox\n",
        "\n",
        "      if p != None:\n",
        "        saida += ', '\n",
        "\n",
        "    saida += ']'\n",
        "    return saida"
      ],
      "metadata": {
        "id": "IoLKt5K-0Txu"
      },
      "execution_count": 2,
      "outputs": []
    },
    {
      "cell_type": "code",
      "source": [
        "if __name__ == '__main__':\n",
        "\n",
        "  p = Fila_Encadeada()\n",
        "\n",
        "  p.adicionar(No(\"A\"))\n",
        "  p.adicionar(No(\"B\"))\n",
        "  p.adicionar(No(\"C\"))\n",
        "  p.adicionar(No(\"D\"))\n",
        "\n",
        "  print(p)\n",
        "  print(p.size())\n",
        "\n",
        "  p.remover()\n",
        "  print(p)\n",
        "  print(p.size())\n",
        "\n",
        "  p.remover()\n",
        "  print(p)\n",
        "  print(p.size())\n",
        "\n",
        "  p.remover()\n",
        "  print(p)\n",
        "  print(p.size())\n",
        "\n",
        "  p.remover()\n",
        "  print(p)\n",
        "  print(p.size())"
      ],
      "metadata": {
        "id": "U1kmuMu82FC8"
      },
      "execution_count": null,
      "outputs": []
    }
  ]
}