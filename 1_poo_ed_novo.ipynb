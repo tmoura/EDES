{
  "nbformat": 4,
  "nbformat_minor": 0,
  "metadata": {
    "colab": {
      "provenance": [],
      "include_colab_link": true
    },
    "kernelspec": {
      "name": "python3",
      "display_name": "Python 3"
    },
    "language_info": {
      "name": "python"
    }
  },
  "cells": [
    {
      "cell_type": "markdown",
      "metadata": {
        "id": "view-in-github",
        "colab_type": "text"
      },
      "source": [
        "<a href=\"https://colab.research.google.com/github/tmoura/EDES/blob/main/1_poo_ed_novo.ipynb\" target=\"_parent\"><img src=\"https://colab.research.google.com/assets/colab-badge.svg\" alt=\"Open In Colab\"/></a>"
      ]
    },
    {
      "cell_type": "code",
      "execution_count": null,
      "metadata": {
        "id": "Op56NKdSpw-0"
      },
      "outputs": [],
      "source": [
        "class Ponto:\n",
        "  def __init__(self, x, y):\n",
        "    self.x = x\n",
        "    self.y = y\n",
        "\n",
        "\n",
        "# Programa principal\n",
        "if __name__ == '__main__':\n",
        "   ponto1 = Ponto(3,4)\n",
        "   ponto2 = Ponto(-1,3)\n",
        "\n",
        "   print(f\"As coordenadas do Ponto 1 são: {ponto1.x, ponto1.y}\")\n",
        "   print(f\"As coordenadas do Ponto 1 são: {ponto2.x, ponto2.y}\")"
      ]
    },
    {
      "cell_type": "code",
      "source": [
        "class Casa:\n",
        "  def __init__(self, n, e, c):\n",
        "    self.numero = n\n",
        "    self.endereco = e\n",
        "    self.cor = c\n",
        "\n",
        "# Programa principal\n",
        "if __name__ == '__main__':\n",
        "   minha_casa = Casa(209,\"Rua 5 de Maio\",\"Verde\")\n",
        "\n",
        "   print(f\"Minha casa tem as seguintes características: Fica na rua {minha_casa.endereco}, Número {minha_casa.numero} e é da cor {minha_casa.cor}\")"
      ],
      "metadata": {
        "id": "3OeJ2fUZqiCy"
      },
      "execution_count": null,
      "outputs": []
    },
    {
      "cell_type": "code",
      "source": [
        "class Ponto:\n",
        "  def __init__(self, x, y):\n",
        "    self.x = x\n",
        "    self.y = y\n",
        "\n",
        "  def quadrante(self):\n",
        "    if (self.x > 0 and self.y > 0):\n",
        "      return \"1 quadrante\"\n",
        "    elif (self.x < 0 and self.y > 0):\n",
        "      return \"2 quadrante\"\n",
        "    elif (self.x < 0 and self.y < 0):\n",
        "      return \"3 quadrante\"\n",
        "    elif (self.x > 0 and self.y < 0):\n",
        "      return \"4 quadrante\"\n",
        "    else:\n",
        "      return \"Nenhum dos quadrantes\"\n",
        "\n",
        "# Programa principal\n",
        "if __name__ == '__main__':\n",
        "   ponto1 = Ponto(3,-4)\n",
        "   ponto2 = Ponto(-1,-3)\n",
        "\n",
        "   print(f\"As coordenadas do Ponto 1 são: {ponto1.x, ponto1.y}, pertence ao {ponto1.quadrante()}\")\n",
        "   print(f\"As coordenadas do Ponto 1 são: {ponto2.x, ponto2.y}, pertence ao {ponto2.quadrante()}\")"
      ],
      "metadata": {
        "id": "WmCtg7hRr8El"
      },
      "execution_count": null,
      "outputs": []
    },
    {
      "cell_type": "code",
      "source": [
        "class Retangulo:\n",
        "  def __init__(self, b, a):\n",
        "    self.base = b\n",
        "    self.altura = a\n",
        "\n",
        "  def calcula_area(self):\n",
        "    return self.base * self.altura\n",
        "\n",
        "  def eh_quadrado(self):\n",
        "    if self.base == self.altura:\n",
        "      return True\n",
        "    else:\n",
        "      return False\n",
        "\n",
        "# Programa principal\n",
        "if __name__ == '__main__':\n",
        "   rect = Retangulo(4,5)\n",
        "\n",
        "   print(f\"A area do Retangulo é: {rect.calcula_area()}\")\n",
        "\n",
        "   if rect.eh_quadrado():\n",
        "    print(f\"O retangulo é quadrado\")\n",
        "   else:\n",
        "    print(f\"O retangulo não é quadrado\")"
      ],
      "metadata": {
        "id": "BxEs_0ew3Lmb"
      },
      "execution_count": null,
      "outputs": []
    },
    {
      "cell_type": "code",
      "source": [
        "class Conta_Corrente:\n",
        "  def __init__(self, numero, cpf, saldo = 0):\n",
        "    self.numero = numero\n",
        "    self.cpf = cpf\n",
        "    self.saldo = saldo\n",
        "\n",
        "  def creditar(self, valor):\n",
        "    self.saldo += valor\n",
        "\n",
        "  def debitar(self, valor):\n",
        "    if valor <= self.saldo:\n",
        "      self.saldo -= valor\n",
        "\n",
        "# Programa principal\n",
        "if __name__ == '__main__':\n",
        "  minha_conta = Conta_Corrente(\"1234-5\",\"876543212-33\",150)\n",
        "\n",
        "  minha_conta.creditar(100)\n",
        "  minha_conta.debitar(80)\n",
        "\n",
        "  print(f\"O saldo da minha conta é de: {minha_conta.saldo} reais\")"
      ],
      "metadata": {
        "id": "pN-5jrB42R5o"
      },
      "execution_count": null,
      "outputs": []
    },
    {
      "cell_type": "markdown",
      "source": [
        "# Classes:\n",
        "\n",
        "* Motor\n",
        "* Carro\n",
        "* Dimensão"
      ],
      "metadata": {
        "id": "dX_hwGRfgay9"
      }
    },
    {
      "cell_type": "code",
      "source": [
        "class Motor:\n",
        "  def __init__(self, motorizacao, combustivel=\"flex\"):\n",
        "    self._motorizacao = motorizacao\n",
        "    self._combustivel = combustivel\n",
        "\n",
        "  @property\n",
        "  def motorizacao(self):\n",
        "    return self._motorizacao\n",
        "\n",
        "  @motorizacao.setter\n",
        "  def motorizacao(sef, nova_motorizacao):\n",
        "    self._motorizacao = nova_motorizacao\n",
        "\n",
        "  @property\n",
        "  def combustivel(self):\n",
        "    return self._combustivel\n",
        "\n",
        "  @combustivel.setter\n",
        "  def combustivel(self, novo_combustivel):\n",
        "    self._combustivel = novo_combustivel\n",
        "\n",
        "  def __str__(self):\n",
        "    return f\"Motor: {self._motorizacao}L, Combustivel: {self._combustivel}\"\n",
        "\n",
        "###########################\n",
        "\n",
        "class Carro:\n",
        "  def __init__(self, cor, placa, motor, dimensao):\n",
        "    self._cor = cor\n",
        "    self._placa = placa\n",
        "    self._motor = motor\n",
        "    self._dimensao = dimensao\n",
        "\n",
        "  @property\n",
        "  def cor(self):\n",
        "    return self._cor\n",
        "\n",
        "  @property\n",
        "  def placa(self):\n",
        "    return self._placa\n",
        "\n",
        "  @property\n",
        "  def motor(self):\n",
        "    return self._motor\n",
        "\n",
        "  @property\n",
        "  def dimensao(self):\n",
        "    return self._dimensao\n",
        "\n",
        "  @cor.setter\n",
        "  def cor(self, nova_cor):\n",
        "    self._cor = nova_cor\n",
        "\n",
        "  @placa.setter\n",
        "  def placa(self, nova_placa):\n",
        "    self._placa = nova_placa\n",
        "\n",
        "  @motor.setter\n",
        "  def motor(self, novo_motor):\n",
        "    self._motor = novo_motor\n",
        "\n",
        "  @dimensao.setter\n",
        "  def dimensao(self, nova_dimensao):\n",
        "    self._dimensao = nova_dimensao\n",
        "\n",
        "  def __str__(self):\n",
        "    return f\"Cor: {self._cor}, Placa: {self._placa} \\nMotorização: {self._motor} \\nDimensão: {self._dimensao}\"\n",
        "\n",
        "###########################\n",
        "\n",
        "class Dimensao:\n",
        "  def __init__(self, altura, largura, comprimento):\n",
        "    self._altura = altura\n",
        "    self._largura = largura\n",
        "    self._comprimento = comprimento\n",
        "\n",
        "  @property\n",
        "  def altura(self):\n",
        "    return self._altura\n",
        "\n",
        "  @property\n",
        "  def largura(self):\n",
        "    return self._largura\n",
        "\n",
        "  @property\n",
        "  def comprimento(self):\n",
        "    return self._comprimento\n",
        "\n",
        "  @altura.setter\n",
        "  def altura(self, nova_altura):\n",
        "    self._altura = nova_altura\n",
        "\n",
        "  @largura.setter\n",
        "  def largura(self, nova_largura):\n",
        "    self._largura = nova_largura\n",
        "\n",
        "  @comprimento.setter\n",
        "  def comprimento(self, nova_comprimento):\n",
        "    self._comprimento = nova_comprimento\n",
        "\n",
        "  def __str__(self):\n",
        "    return f\"Altura: {self._altura}, Largura: {self._largura}, Comprimento: {self._comprimento}\"\n",
        "\n",
        "###########################\n",
        "\n",
        "# Programa Principal\n",
        "\n",
        "if __name__ == '__main__':\n",
        "  motor = Motor('1.6','gasolina')\n",
        "  dimensao = Dimensao(1.67,1.81,4.37)\n",
        "\n",
        "  carro = Carro('preto', 'ABC-1234', motor, dimensao)\n",
        "\n",
        "  print(carro)"
      ],
      "metadata": {
        "id": "dCxTG0yBgsQu",
        "colab": {
          "base_uri": "https://localhost:8080/"
        },
        "outputId": "aa337e60-37a9-448d-f53a-fa0b040474ab"
      },
      "execution_count": 2,
      "outputs": [
        {
          "output_type": "stream",
          "name": "stdout",
          "text": [
            "Cor: preto, Placa: ABC-1234 \n",
            "Motorização: Motor: 1.6L, Combustivel: gasolina \n",
            "Dimensão: Altura: 1.67, Largura: 1.81, Comprimento: 4.37\n"
          ]
        }
      ]
    }
  ]
}