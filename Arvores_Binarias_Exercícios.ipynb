{
  "nbformat": 4,
  "nbformat_minor": 0,
  "metadata": {
    "colab": {
      "provenance": [],
      "include_colab_link": true
    },
    "kernelspec": {
      "name": "python3",
      "display_name": "Python 3"
    },
    "language_info": {
      "name": "python"
    }
  },
  "cells": [
    {
      "cell_type": "markdown",
      "metadata": {
        "id": "view-in-github",
        "colab_type": "text"
      },
      "source": [
        "<a href=\"https://colab.research.google.com/github/tmoura/EDES/blob/main/Arvores_Binarias_Exerc%C3%ADcios.ipynb\" target=\"_parent\"><img src=\"https://colab.research.google.com/assets/colab-badge.svg\" alt=\"Open In Colab\"/></a>"
      ]
    },
    {
      "cell_type": "markdown",
      "source": [
        "# Árvores Binárias - EXERCÍCIOS"
      ],
      "metadata": {
        "id": "_UU39LDO0msM"
      }
    },
    {
      "cell_type": "code",
      "execution_count": 1,
      "metadata": {
        "id": "Jp02DMvf0iDo"
      },
      "outputs": [],
      "source": [
        "class No:\n",
        "  def __init__(self, dado = None):\n",
        "    self.__dado = dado\n",
        "    self.__dir = None\n",
        "    self.__esq = None\n",
        "\n",
        "  # get\n",
        "  @property\n",
        "  def dado(self):\n",
        "    return self.__dado\n",
        "\n",
        "  # set\n",
        "  @dado.setter\n",
        "  def dado(self, novo):\n",
        "    self.__dado = novo\n",
        "\n",
        "  # get\n",
        "  @property\n",
        "  def dir(self):\n",
        "    return self.__dir\n",
        "\n",
        "  # set\n",
        "  @dir.setter\n",
        "  def dir(self, novo):\n",
        "    self.__dir = novo\n",
        "\n",
        "  # get\n",
        "  @property\n",
        "  def esq(self):\n",
        "    return self.__esq\n",
        "\n",
        "  # set\n",
        "  @esq.setter\n",
        "  def esq(self, novo):\n",
        "    self.__esq = novo"
      ]
    },
    {
      "cell_type": "code",
      "source": [
        "class Arvore_Binaria:\n",
        "\n",
        "  def __init__(self):\n",
        "    self.__root = None\n",
        "\n",
        "  @property\n",
        "  def root(self):\n",
        "    return self.__root\n",
        "\n",
        "  @root.setter\n",
        "  def root(self, root):\n",
        "    self.__root = root\n",
        "\n",
        "  def em_ordem(self, no):\n",
        "    if no != None:\n",
        "      self.em_ordem(no.esq)\n",
        "      print(no.dado)\n",
        "      self.em_ordem(no.dir)\n",
        "\n",
        "  def pre_ordem(self, no):\n",
        "    if no != None:\n",
        "      print(no.dado)\n",
        "      self.pre_ordem(no.esq)\n",
        "      self.pre_ordem(no.dir)\n",
        "\n",
        "  def pos_ordem(self, no):\n",
        "    if no != None:\n",
        "      self.pos_ordem(no.esq)\n",
        "      self.pos_ordem(no.dir)\n",
        "      print(no.dado)\n",
        "\n",
        "#1) Escreva uma função que retorne a soma de todos os valores de uma árvore binária. A função deve receber como parâmetro o endereço da raiz da árvore.\n",
        "  def soma_arvore(self, no):\n",
        "    if no != None:\n",
        "      return no.dado + self.soma_arvore(no.esq) + self.soma_arvore(no.dir)\n",
        "    else:\n",
        "      return \"\"\n",
        "\n",
        "#2) Escreva uma função que imprima todos os elementos de uma árvore binária que estão em um nó folha. A função deve receber como parâmetro o endereço da raiz da árvore.\n",
        "  def folha(self, no):\n",
        "    if no != None:\n",
        "      if no.esq == None and no.dir == None:\n",
        "        print(no.dado)\n",
        "      else:\n",
        "        self.folha(no.esq)\n",
        "        self.folha(no.dir)"
      ],
      "metadata": {
        "id": "yvLb-S7M0wGS"
      },
      "execution_count": 14,
      "outputs": []
    },
    {
      "cell_type": "code",
      "source": [
        "if __name__ == '__main__':\n",
        "\n",
        "  arvore = Arvore_Binaria()\n",
        "\n",
        "  arvore.root = No(\"A\")\n",
        "  arvore.root.esq = No(\"B\")\n",
        "  arvore.root.dir = No(\"C\")\n",
        "\n",
        "  p = arvore.root.esq\n",
        "  q = arvore.root.dir\n",
        "\n",
        "  p.esq = No(\"D\")\n",
        "  p.dir = No(\"E\")\n",
        "\n",
        "  q.esq = No(\"F\")\n",
        "  q.dir = No(\"G\")\n",
        "\n",
        "  #arvore.em_ordem(arvore.root)\n",
        "\n",
        "  arvore.folha(arvore.root)\n",
        "\n",
        "  result = arvore.soma_arvore(arvore.root)\n",
        "\n",
        "  print(result)"
      ],
      "metadata": {
        "id": "i029U9FNw82U"
      },
      "execution_count": null,
      "outputs": []
    }
  ]
}