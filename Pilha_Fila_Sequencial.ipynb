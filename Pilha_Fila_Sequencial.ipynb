{
  "nbformat": 4,
  "nbformat_minor": 0,
  "metadata": {
    "colab": {
      "provenance": [],
      "authorship_tag": "ABX9TyMQVZjwb8GVkr5xMFGZzQDV",
      "include_colab_link": true
    },
    "kernelspec": {
      "name": "python3",
      "display_name": "Python 3"
    },
    "language_info": {
      "name": "python"
    }
  },
  "cells": [
    {
      "cell_type": "markdown",
      "metadata": {
        "id": "view-in-github",
        "colab_type": "text"
      },
      "source": [
        "<a href=\"https://colab.research.google.com/github/tmoura/EDES/blob/main/Pilha_Fila_Sequencial.ipynb\" target=\"_parent\"><img src=\"https://colab.research.google.com/assets/colab-badge.svg\" alt=\"Open In Colab\"/></a>"
      ]
    },
    {
      "cell_type": "markdown",
      "source": [
        "# Pilha e Fila Sequencial\n",
        "\n",
        "Nos códigos abaixo, usaremos um objeto do tipo *list* para guardar os nossos dados"
      ],
      "metadata": {
        "id": "m1n5R5nhJw61"
      }
    },
    {
      "cell_type": "code",
      "execution_count": null,
      "metadata": {
        "id": "3MinHaW2JwAZ"
      },
      "outputs": [],
      "source": [
        "class Pilha:\n",
        "    def __init__(self):\n",
        "        self._dados = []\n",
        "\n",
        "    def empilhar(self, elemento):\n",
        "        self._dados.append(elemento)\n",
        "\n",
        "    def desempilhar(self):\n",
        "        if self.esta_vazia() == True:\n",
        "            return self._dados.pop()\n",
        "\n",
        "    def esta_vazia(self):\n",
        "        return len(self._dados) == 0\n",
        "\n",
        "    def topo(self):\n",
        "      return self._dados[len(self._dados) - 1]\n",
        "\n",
        "    def __str__(self):\n",
        "\n",
        "        mensagem = \"[\"\n",
        "        for elemento in reversed(self._dados): # O topo é o último elemento, por isso usei o reversed\n",
        "            mensagem += str(elemento) + \",\"\n",
        "        mensagem += \"]\"\n",
        "\n",
        "        return mensagem\n",
        "\n",
        "\n",
        "if __name__ == '__main__':\n",
        "    pilha = Pilha()\n",
        "\n",
        "    pilha.empilhar(\"A\")\n",
        "    pilha.empilhar(\"B\")\n",
        "    pilha.empilhar(\"C\")\n",
        "\n",
        "    print(pilha)"
      ]
    },
    {
      "cell_type": "code",
      "source": [
        "class Fila:\n",
        "    def __init__(self):\n",
        "        self._dados = []\n",
        "\n",
        "    # adiciona na última posição\n",
        "    def adicionar(self, elemento):\n",
        "        self._dados.append(elemento)\n",
        "\n",
        "    # Remove da primeira posição, index = 0\n",
        "    def remover(self):\n",
        "        if self.esta_vazia() == True:\n",
        "            return self._dados.pop(0)\n",
        "\n",
        "    def esta_vazia(self):\n",
        "        return len(self._dados) == 0\n",
        "\n",
        "    def inicio(self):\n",
        "      return self._dados[len(self._dados) - 1]\n",
        "\n",
        "    def __str__(self):\n",
        "\n",
        "        mensagem = \"[\"\n",
        "        for elemento in self._dados: # O início é o primeiro elemento\n",
        "            mensagem += str(elemento) + \",\"\n",
        "        mensagem += \"]\"\n",
        "\n",
        "        return mensagem\n",
        "\n",
        "\n",
        "if __name__ == '__main__':\n",
        "    fila = Fila()\n",
        "\n",
        "    fila.adicionar(\"A\")\n",
        "    fila.adicionar(\"B\")\n",
        "    fila.adicionar(\"C\")\n",
        "\n",
        "    print(fila)"
      ],
      "metadata": {
        "id": "jDtgDnXVMmzI"
      },
      "execution_count": null,
      "outputs": []
    }
  ]
}